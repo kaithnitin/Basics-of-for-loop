{
 "cells": [
  {
   "cell_type": "code",
   "execution_count": 1,
   "id": "4a3f700e-13c0-4309-97aa-2bad034645ef",
   "metadata": {},
   "outputs": [
    {
     "name": "stdout",
     "output_type": "stream",
     "text": [
      "A <class 'str'>\n",
      "H <class 'str'>\n",
      "I <class 'str'>\n",
      "I <class 'str'>\n",
      "loop exausted completely\n"
     ]
    }
   ],
   "source": [
    "list1=[\"ram\",\"sham\",\"sita\",\"gita\"]\n",
    "for i in list1:\n",
    "    print(i[1].upper(),type(i))\n",
    "else:\n",
    "    print(\"loop exausted completely\")\n",
    "   \n"
   ]
  },
  {
   "cell_type": "code",
   "execution_count": 2,
   "id": "189c2109-6153-4cdc-9569-a3985cf672e4",
   "metadata": {},
   "outputs": [
    {
     "data": {
      "text/plain": [
       "['ram', 'sham', 'sita', 'gita']"
      ]
     },
     "execution_count": 2,
     "metadata": {},
     "output_type": "execute_result"
    }
   ],
   "source": [
    "list1"
   ]
  },
  {
   "cell_type": "code",
   "execution_count": 3,
   "id": "a7a695a3-8406-4bb4-9c23-79ca89d4d011",
   "metadata": {},
   "outputs": [
    {
     "name": "stdout",
     "output_type": "stream",
     "text": [
      "RAM\n",
      "SHAM\n",
      "SITA\n",
      "GITA\n",
      "loop exausted completely\n"
     ]
    }
   ],
   "source": [
    "for i in list1:\n",
    "    print(i.upper())\n",
    "else:\n",
    "    print(\"loop exausted completely\")"
   ]
  },
  {
   "cell_type": "code",
   "execution_count": 4,
   "id": "2b087497-3924-42e1-a2b0-6f57991a4ed8",
   "metadata": {},
   "outputs": [
    {
     "data": {
      "text/plain": [
       "['ram', 'sham', 'sita', 'gita']"
      ]
     },
     "execution_count": 4,
     "metadata": {},
     "output_type": "execute_result"
    }
   ],
   "source": [
    "list1"
   ]
  },
  {
   "cell_type": "code",
   "execution_count": 5,
   "id": "a3550436-a773-40d3-a83a-1420824dcc2f",
   "metadata": {},
   "outputs": [
    {
     "name": "stdout",
     "output_type": "stream",
     "text": [
      "RAM\n",
      "SHAM\n"
     ]
    }
   ],
   "source": [
    "# in break else is not executed because loop is not completely exaust\n",
    "for i in list1: \n",
    "    if i == 'sita':\n",
    "        break\n",
    "    print(i.upper())\n",
    "else:\n",
    "    print(\"loop exausted completely\")        "
   ]
  },
  {
   "cell_type": "code",
   "execution_count": 6,
   "id": "12c1a391-30f7-45f1-9971-ee0b73cf836a",
   "metadata": {},
   "outputs": [
    {
     "name": "stdout",
     "output_type": "stream",
     "text": [
      "RAM\n",
      "SHAM\n"
     ]
    }
   ],
   "source": [
    "for i in list1: \n",
    "    if i == 'sita':\n",
    "        break\n",
    "    print(i.upper())"
   ]
  },
  {
   "cell_type": "code",
   "execution_count": 7,
   "id": "ef8df4ba-1406-49e4-83d6-9889db0198c5",
   "metadata": {},
   "outputs": [
    {
     "data": {
      "text/plain": [
       "['ram', 'sham', 'sita', 'gita']"
      ]
     },
     "execution_count": 7,
     "metadata": {},
     "output_type": "execute_result"
    }
   ],
   "source": [
    "list1"
   ]
  },
  {
   "cell_type": "code",
   "execution_count": 8,
   "id": "3a13d036-5f30-40d3-a8f3-2c756035a8e5",
   "metadata": {},
   "outputs": [
    {
     "name": "stdout",
     "output_type": "stream",
     "text": [
      "ram\n",
      "sham\n",
      "gita\n",
      "loop exausted completely\n"
     ]
    }
   ],
   "source": [
    "# in continue else is executed because loop is completely exaust\n",
    "for i in list1:\n",
    "    if i== \"sita\":\n",
    "        continue\n",
    "    print(i)\n",
    "else:\n",
    "    print(\"loop exausted completely\")        "
   ]
  },
  {
   "cell_type": "code",
   "execution_count": null,
   "id": "f5a86630-fa3c-450a-9c91-e574f3bd1e38",
   "metadata": {},
   "outputs": [],
   "source": []
  },
  {
   "cell_type": "code",
   "execution_count": null,
   "id": "e1f42795-6e29-416e-b544-cb48b854e6f8",
   "metadata": {},
   "outputs": [],
   "source": [
    "type(list(range(5)))"
   ]
  },
  {
   "cell_type": "code",
   "execution_count": null,
   "id": "de848674-8675-434e-bf58-bb8d0e86b817",
   "metadata": {},
   "outputs": [],
   "source": [
    "l1[0]"
   ]
  },
  {
   "cell_type": "code",
   "execution_count": null,
   "id": "3a4f19c9-cf6b-4664-bd55-a348076b977b",
   "metadata": {},
   "outputs": [],
   "source": [
    "for i in l1:\n",
    "    print(i)"
   ]
  },
  {
   "cell_type": "code",
   "execution_count": null,
   "id": "3f4576d1-3481-4401-9fc0-ea707ef3cf50",
   "metadata": {},
   "outputs": [],
   "source": [
    "l1"
   ]
  },
  {
   "cell_type": "code",
   "execution_count": null,
   "id": "8b187371-56bb-4122-b976-730a6dd7f58d",
   "metadata": {},
   "outputs": [],
   "source": [
    "list(range(0,21,2))"
   ]
  },
  {
   "cell_type": "code",
   "execution_count": null,
   "id": "395306d6-aebd-4613-b820-f624010b5639",
   "metadata": {},
   "outputs": [],
   "source": [
    "list(range(20,-1,-2))"
   ]
  },
  {
   "cell_type": "code",
   "execution_count": null,
   "id": "dba3a2bd-79ad-4939-99e6-8f904add4f08",
   "metadata": {},
   "outputs": [],
   "source": []
  },
  {
   "cell_type": "code",
   "execution_count": 11,
   "id": "54b1388c-ac56-4a86-bb92-c68974e4bea0",
   "metadata": {},
   "outputs": [],
   "source": [
    "l1=['ram', 'sham', 'sita', 'gita']"
   ]
  },
  {
   "cell_type": "code",
   "execution_count": 12,
   "id": "5a81d651-c0a8-463f-a1d2-d3651343cfc3",
   "metadata": {},
   "outputs": [
    {
     "data": {
      "text/plain": [
       "['ram', 'sham', 'sita', 'gita']"
      ]
     },
     "execution_count": 12,
     "metadata": {},
     "output_type": "execute_result"
    }
   ],
   "source": [
    "l1"
   ]
  },
  {
   "cell_type": "code",
   "execution_count": 13,
   "id": "b4de2978-5a94-4b41-b6fd-0136a3a77d52",
   "metadata": {},
   "outputs": [
    {
     "data": {
      "text/plain": [
       "[0, 1, 2, 3]"
      ]
     },
     "execution_count": 13,
     "metadata": {},
     "output_type": "execute_result"
    }
   ],
   "source": [
    "list(range(len(l1)))"
   ]
  },
  {
   "cell_type": "code",
   "execution_count": 14,
   "id": "ab50fcca-0097-4b6d-a6a7-d01a3c9d4fe8",
   "metadata": {},
   "outputs": [
    {
     "data": {
      "text/plain": [
       "int"
      ]
     },
     "execution_count": 14,
     "metadata": {},
     "output_type": "execute_result"
    }
   ],
   "source": [
    "type(len(l1))"
   ]
  },
  {
   "cell_type": "code",
   "execution_count": 15,
   "id": "b841808c-c3c4-46e6-8a9e-4c86075cf249",
   "metadata": {},
   "outputs": [
    {
     "data": {
      "text/plain": [
       "['ram', 'sham', 'sita', 'gita']"
      ]
     },
     "execution_count": 15,
     "metadata": {},
     "output_type": "execute_result"
    }
   ],
   "source": [
    "l1"
   ]
  },
  {
   "cell_type": "code",
   "execution_count": 17,
   "id": "afc20434-0f45-4d54-84a8-164493b3dc3f",
   "metadata": {},
   "outputs": [
    {
     "name": "stdout",
     "output_type": "stream",
     "text": [
      "Ram\n",
      "Sham\n",
      "Sita\n",
      "Gita\n"
     ]
    }
   ],
   "source": [
    "for i in range(len(l1)):\n",
    "    print(l1[i].title())\n",
    "    "
   ]
  },
  {
   "cell_type": "code",
   "execution_count": 18,
   "id": "9d7c1a87-bf76-4c77-bda1-59aa730f39f0",
   "metadata": {},
   "outputs": [
    {
     "data": {
      "text/plain": [
       "['ram', 'sham', 'sita', 'gita']"
      ]
     },
     "execution_count": 18,
     "metadata": {},
     "output_type": "execute_result"
    }
   ],
   "source": [
    "l1"
   ]
  },
  {
   "cell_type": "code",
   "execution_count": 19,
   "id": "b4e6871e-91cd-4dea-9284-6929de65386f",
   "metadata": {},
   "outputs": [
    {
     "data": {
      "text/plain": [
       "4"
      ]
     },
     "execution_count": 19,
     "metadata": {},
     "output_type": "execute_result"
    }
   ],
   "source": [
    "len(l1)"
   ]
  },
  {
   "cell_type": "code",
   "execution_count": 21,
   "id": "e0cd8164-8db7-4bad-beb3-ef0054ebb1c8",
   "metadata": {},
   "outputs": [
    {
     "data": {
      "text/plain": [
       "range(0, 4)"
      ]
     },
     "execution_count": 21,
     "metadata": {},
     "output_type": "execute_result"
    }
   ],
   "source": [
    "range(len(l1))"
   ]
  },
  {
   "cell_type": "code",
   "execution_count": 22,
   "id": "830599b4-d5fb-429f-9d6c-13aadac1c7d1",
   "metadata": {},
   "outputs": [
    {
     "data": {
      "text/plain": [
       "[0, 1, 2, 3]"
      ]
     },
     "execution_count": 22,
     "metadata": {},
     "output_type": "execute_result"
    }
   ],
   "source": [
    "list(range(len(l1)))"
   ]
  },
  {
   "cell_type": "code",
   "execution_count": 23,
   "id": "0fd40bfa-f282-44cc-8b83-c3e1dbd4caa3",
   "metadata": {},
   "outputs": [
    {
     "data": {
      "text/plain": [
       "[4, 3, 2, 1]"
      ]
     },
     "execution_count": 23,
     "metadata": {},
     "output_type": "execute_result"
    }
   ],
   "source": [
    "list(range(len(l1),0,-1))"
   ]
  },
  {
   "cell_type": "code",
   "execution_count": 25,
   "id": "31642fb3-242e-4f0e-b0f4-82fee0bd0fe5",
   "metadata": {},
   "outputs": [
    {
     "data": {
      "text/plain": [
       "[3, 2, 1, 0]"
      ]
     },
     "execution_count": 25,
     "metadata": {},
     "output_type": "execute_result"
    }
   ],
   "source": [
    "list(range(len(l1)-1,-1,-1))"
   ]
  },
  {
   "cell_type": "code",
   "execution_count": 26,
   "id": "a275eabb-95d6-4b42-a3ca-da5626ef75cd",
   "metadata": {},
   "outputs": [
    {
     "data": {
      "text/plain": [
       "['ram', 'sham', 'sita', 'gita']"
      ]
     },
     "execution_count": 26,
     "metadata": {},
     "output_type": "execute_result"
    }
   ],
   "source": [
    "l1"
   ]
  },
  {
   "cell_type": "code",
   "execution_count": 28,
   "id": "1e2b7474-6ca9-4f1b-b6a8-55c7d0a788ff",
   "metadata": {},
   "outputs": [
    {
     "name": "stdout",
     "output_type": "stream",
     "text": [
      "GITA\n",
      "SITA\n",
      "SHAM\n",
      "RAM\n"
     ]
    }
   ],
   "source": [
    "for i in list(range(len(l1)-1,-1,-1)):\n",
    "    print (l1[i].upper())"
   ]
  },
  {
   "cell_type": "code",
   "execution_count": 50,
   "id": "896745ce-2e53-4595-92c9-acc0e5187581",
   "metadata": {},
   "outputs": [],
   "source": [
    "# how to reverse the no.\n",
    "n=12345\n",
    "d1=[]"
   ]
  },
  {
   "cell_type": "code",
   "execution_count": 44,
   "id": "f3ae6988-8e12-42ee-b57b-487989cc32a1",
   "metadata": {},
   "outputs": [
    {
     "data": {
      "text/plain": [
       "['1', '2', '3', '4', '5']"
      ]
     },
     "execution_count": 44,
     "metadata": {},
     "output_type": "execute_result"
    }
   ],
   "source": [
    "list(str(n))"
   ]
  },
  {
   "cell_type": "code",
   "execution_count": 46,
   "id": "0e0824ac-7314-40dc-8f20-ec299a0a5c7d",
   "metadata": {},
   "outputs": [
    {
     "data": {
      "text/plain": [
       "[4, 3, 2, 1, 0]"
      ]
     },
     "execution_count": 46,
     "metadata": {},
     "output_type": "execute_result"
    }
   ],
   "source": [
    "list(range(len(list(str(n)))-1,-1,-1))"
   ]
  },
  {
   "cell_type": "code",
   "execution_count": 51,
   "id": "41e93916-c10a-4601-a727-52b0c1fcfd51",
   "metadata": {},
   "outputs": [
    {
     "name": "stdout",
     "output_type": "stream",
     "text": [
      "5\n",
      "4\n",
      "3\n",
      "2\n",
      "1\n"
     ]
    }
   ],
   "source": [
    "for i in list(range(len(list(str(n)))-1,-1,-1)):\n",
    "    print(list(str(n))[i])\n",
    "    d1.append(list(str(n))[i])"
   ]
  },
  {
   "cell_type": "code",
   "execution_count": 53,
   "id": "0c4a80eb-155f-4d05-91c4-067d6256160a",
   "metadata": {},
   "outputs": [
    {
     "data": {
      "text/plain": [
       "\"['5', '4', '3', '2', '1']\""
      ]
     },
     "execution_count": 53,
     "metadata": {},
     "output_type": "execute_result"
    }
   ],
   "source": [
    "str(d1)"
   ]
  },
  {
   "cell_type": "code",
   "execution_count": 60,
   "id": "c47eeefa-e761-4c3a-b89b-9ee23158c59d",
   "metadata": {},
   "outputs": [
    {
     "data": {
      "text/plain": [
       "54321"
      ]
     },
     "execution_count": 60,
     "metadata": {},
     "output_type": "execute_result"
    }
   ],
   "source": [
    "int(d1[0]+d1[1]+d1[2]+d1[3]+d1[4])"
   ]
  },
  {
   "cell_type": "code",
   "execution_count": 62,
   "id": "00f06bcf-9c66-46fd-babc-273f62618319",
   "metadata": {},
   "outputs": [
    {
     "data": {
      "text/plain": [
       "['ram', 'sham', 'sita', 'gita']"
      ]
     },
     "execution_count": 62,
     "metadata": {},
     "output_type": "execute_result"
    }
   ],
   "source": [
    "l1"
   ]
  },
  {
   "cell_type": "code",
   "execution_count": 63,
   "id": "f5c07cd9-b1b2-48e1-9e00-5ee683593427",
   "metadata": {},
   "outputs": [
    {
     "data": {
      "text/plain": [
       "4"
      ]
     },
     "execution_count": 63,
     "metadata": {},
     "output_type": "execute_result"
    }
   ],
   "source": [
    "len(l1)"
   ]
  },
  {
   "cell_type": "code",
   "execution_count": 64,
   "id": "1f642738-0740-47dc-b3b3-b78189306e41",
   "metadata": {},
   "outputs": [
    {
     "data": {
      "text/plain": [
       "range(0, 4)"
      ]
     },
     "execution_count": 64,
     "metadata": {},
     "output_type": "execute_result"
    }
   ],
   "source": [
    "range(len(l1))"
   ]
  },
  {
   "cell_type": "code",
   "execution_count": 65,
   "id": "f412bc85-9c2b-4c24-85df-44323e836b47",
   "metadata": {},
   "outputs": [
    {
     "data": {
      "text/plain": [
       "[0, 1, 2, 3]"
      ]
     },
     "execution_count": 65,
     "metadata": {},
     "output_type": "execute_result"
    }
   ],
   "source": [
    "list(range(len(l1)))"
   ]
  },
  {
   "cell_type": "code",
   "execution_count": 69,
   "id": "61f89475-4260-42b8-aab3-6a9ee010fc4a",
   "metadata": {},
   "outputs": [
    {
     "data": {
      "text/plain": [
       "[4, 2, 0]"
      ]
     },
     "execution_count": 69,
     "metadata": {},
     "output_type": "execute_result"
    }
   ],
   "source": [
    "list(range(len(l1)-1,0,-2))"
   ]
  },
  {
   "cell_type": "code",
   "execution_count": 71,
   "id": "d05d2ebe-ccbf-4a7d-ba26-6e8a8a3fe1f3",
   "metadata": {},
   "outputs": [
    {
     "name": "stdout",
     "output_type": "stream",
     "text": [
      "gita\n",
      "sham\n"
     ]
    }
   ],
   "source": [
    "for i in list(range(len(l1)-1,0,-2)):\n",
    "    print(l1[i])"
   ]
  },
  {
   "cell_type": "code",
   "execution_count": 72,
   "id": "23532af6-27f3-4184-a52a-9b8d1a12c395",
   "metadata": {},
   "outputs": [
    {
     "data": {
      "text/plain": [
       "['ram', 'sham', 'sita', 'gita']"
      ]
     },
     "execution_count": 72,
     "metadata": {},
     "output_type": "execute_result"
    }
   ],
   "source": [
    "l1"
   ]
  },
  {
   "cell_type": "code",
   "execution_count": 77,
   "id": "601dfd6d-6a0b-4a38-95c1-d622ce4ec631",
   "metadata": {},
   "outputs": [
    {
     "data": {
      "text/plain": [
       "[1, 3]"
      ]
     },
     "execution_count": 77,
     "metadata": {},
     "output_type": "execute_result"
    }
   ],
   "source": [
    "list(range(1,len(l1),2))"
   ]
  },
  {
   "cell_type": "code",
   "execution_count": 78,
   "id": "2e22d093-4719-4263-b3f0-50e91097d83f",
   "metadata": {},
   "outputs": [
    {
     "name": "stdout",
     "output_type": "stream",
     "text": [
      "sham\n",
      "gita\n"
     ]
    }
   ],
   "source": [
    "for i in list(range(1,len(l1),2)):\n",
    "    print(l1[i])"
   ]
  },
  {
   "cell_type": "code",
   "execution_count": 79,
   "id": "55089d3e-b96c-47a3-97ef-12ce6e535e47",
   "metadata": {},
   "outputs": [],
   "source": [
    "l2=[1,2,3,4,5,6,7,8]"
   ]
  },
  {
   "cell_type": "code",
   "execution_count": 81,
   "id": "3d0d53c9-ea0e-44a5-b204-12c013ec379a",
   "metadata": {},
   "outputs": [
    {
     "data": {
      "text/plain": [
       "8"
      ]
     },
     "execution_count": 81,
     "metadata": {},
     "output_type": "execute_result"
    }
   ],
   "source": [
    "len(l2)"
   ]
  },
  {
   "cell_type": "code",
   "execution_count": 82,
   "id": "e6a71bfb-651c-46d7-a59e-933683942ed2",
   "metadata": {},
   "outputs": [
    {
     "data": {
      "text/plain": [
       "range(0, 8)"
      ]
     },
     "execution_count": 82,
     "metadata": {},
     "output_type": "execute_result"
    }
   ],
   "source": [
    "range(len(l2))"
   ]
  },
  {
   "cell_type": "code",
   "execution_count": 84,
   "id": "daf9d24f-6923-4354-8b33-1fd88fde7837",
   "metadata": {},
   "outputs": [
    {
     "data": {
      "text/plain": [
       "[0, 1, 2, 3, 4, 5, 6, 7]"
      ]
     },
     "execution_count": 84,
     "metadata": {},
     "output_type": "execute_result"
    }
   ],
   "source": [
    "list(range(len(l2)))"
   ]
  },
  {
   "cell_type": "code",
   "execution_count": 88,
   "id": "b1d52413-55fa-4993-b637-d5f619ca871e",
   "metadata": {},
   "outputs": [
    {
     "data": {
      "text/plain": [
       "[0, 2, 4, 6]"
      ]
     },
     "execution_count": 88,
     "metadata": {},
     "output_type": "execute_result"
    }
   ],
   "source": [
    "list(range(0,len(l2),2))"
   ]
  },
  {
   "cell_type": "code",
   "execution_count": 92,
   "id": "0e5de245-747f-4492-9ccb-6e974b3f4df2",
   "metadata": {},
   "outputs": [
    {
     "name": "stdout",
     "output_type": "stream",
     "text": [
      "value of index 0 --> 1\n",
      "value of index 2 --> 3\n",
      "value of index 4 --> 5\n",
      "value of index 6 --> 7\n",
      "the values on even indexes\n"
     ]
    }
   ],
   "source": [
    "# print the values on even indexes\n",
    "for i in list(range(0,len(l2),2)):\n",
    "    print(\"value of index\",i,\"-->\",l2[i])\n",
    "else:\n",
    "    print(\"the values on even indexes\")"
   ]
  },
  {
   "cell_type": "code",
   "execution_count": 94,
   "id": "917ce862-b52a-4f03-8c4d-873083f58913",
   "metadata": {},
   "outputs": [],
   "source": [
    "l3=[1,2,3,4,5,6,7,8,9]"
   ]
  },
  {
   "cell_type": "code",
   "execution_count": 106,
   "id": "8bd9fdf9-cb04-4d5f-8560-34627690a76d",
   "metadata": {},
   "outputs": [
    {
     "name": "stdout",
     "output_type": "stream",
     "text": [
      "loop executed\n",
      "the sum of all the values inside \"l3\" is:  45\n"
     ]
    }
   ],
   "source": [
    "for i in l3:\n",
    "    sum(l3)\n",
    "else:\n",
    "    print(\"loop executed\")\n",
    "print(\"the sum of all the values inside \\\"l3\\\" is: \",sum(l3))"
   ]
  },
  {
   "cell_type": "code",
   "execution_count": 99,
   "id": "02237edf-c575-4420-877e-fa5d4724d736",
   "metadata": {},
   "outputs": [],
   "source": [
    "l1=[2,34,68,12,456,43,2,4,7,89,5,3,65]"
   ]
  },
  {
   "cell_type": "code",
   "execution_count": 105,
   "id": "12354ce9-c4bc-45a3-aff1-af1c081b9f98",
   "metadata": {},
   "outputs": [
    {
     "name": "stdout",
     "output_type": "stream",
     "text": [
      "loop executed\n",
      "the sum of all the values inside \"l1\" is:  790\n"
     ]
    }
   ],
   "source": [
    "result=0\n",
    "for i in l1 :\n",
    "    result+=i\n",
    "else:\n",
    "    print(\"loop executed\")\n",
    "print(\"the sum of all the values inside \\\"l1\\\" is: \",result)"
   ]
  },
  {
   "cell_type": "code",
   "execution_count": 108,
   "id": "2b7b89b9-2314-46dd-b0de-484d17c301ba",
   "metadata": {},
   "outputs": [],
   "source": [
    "t=(1,2,3,4,5,6)"
   ]
  },
  {
   "cell_type": "code",
   "execution_count": 109,
   "id": "22717065-eccf-42d4-8421-fb088a7fa666",
   "metadata": {},
   "outputs": [
    {
     "data": {
      "text/plain": [
       "21"
      ]
     },
     "execution_count": 109,
     "metadata": {},
     "output_type": "execute_result"
    }
   ],
   "source": [
    "sum(t)"
   ]
  },
  {
   "cell_type": "code",
   "execution_count": 115,
   "id": "5974b0a3-9371-444c-82e2-9ee85351e079",
   "metadata": {},
   "outputs": [
    {
     "name": "stdout",
     "output_type": "stream",
     "text": [
      "21\n"
     ]
    }
   ],
   "source": [
    "result=0\n",
    "for i in t :\n",
    "    result+=i\n",
    "print(result)"
   ]
  },
  {
   "cell_type": "code",
   "execution_count": 116,
   "id": "47cbc56c-5451-4c06-8724-ddfcb2ef6ff2",
   "metadata": {},
   "outputs": [
    {
     "name": "stdout",
     "output_type": "stream",
     "text": [
      "1\n",
      "3\n",
      "6\n",
      "10\n",
      "15\n",
      "21\n"
     ]
    }
   ],
   "source": [
    "result=0\n",
    "for i in t :\n",
    "    result+=i\n",
    "    print(result)"
   ]
  },
  {
   "cell_type": "code",
   "execution_count": 118,
   "id": "fcdb5050-64d0-479a-90c9-85a65ddbbef0",
   "metadata": {},
   "outputs": [],
   "source": [
    "l1=[2, 34, 68, 12, 456, 43, 2, 4, 7, 89, 5, 3, 65,\"ram\",\"sham\",\"sita\",\"gita\"]"
   ]
  },
  {
   "cell_type": "code",
   "execution_count": 126,
   "id": "d80f957a-bb11-4e28-8431-5e719084a793",
   "metadata": {},
   "outputs": [
    {
     "name": "stdout",
     "output_type": "stream",
     "text": [
      "['ram', 'sham', 'sita', 'gita'] is removed\n",
      "[2, 34, 68, 12, 456, 43, 2, 4, 7, 89, 5, 3, 65]\n",
      "the sum of all the values inside \"l1\" is:  790\n"
     ]
    }
   ],
   "source": [
    "d1=[]\n",
    "d2=[]\n",
    "for i in l1:\n",
    "    if type(i)==int:\n",
    "        d1.append(i)\n",
    "    else:\n",
    "        d2.append(i)\n",
    "else:\n",
    "    print(d2,\"is removed\")\n",
    "    print(d1)\n",
    "result=0\n",
    "for i in d1:\n",
    "    result+=i\n",
    "print(\"the sum of all the values inside \\\"l1\\\" is: \",result)"
   ]
  },
  {
   "cell_type": "code",
   "execution_count": 127,
   "id": "5d64e63d-034e-4445-9c3d-7a85ae607dbf",
   "metadata": {},
   "outputs": [],
   "source": [
    "s=\"pwskills\""
   ]
  },
  {
   "cell_type": "code",
   "execution_count": 132,
   "id": "8a89326a-c529-47de-ac09-9a90095a18d0",
   "metadata": {},
   "outputs": [
    {
     "data": {
      "text/plain": [
       "[0, 2, 4, 6]"
      ]
     },
     "execution_count": 132,
     "metadata": {},
     "output_type": "execute_result"
    }
   ],
   "source": [
    "list(range(0,len(s),2))"
   ]
  },
  {
   "cell_type": "code",
   "execution_count": 133,
   "id": "1269b555-adea-4a18-9286-d19142948383",
   "metadata": {},
   "outputs": [
    {
     "name": "stdout",
     "output_type": "stream",
     "text": [
      "p\n",
      "w\n",
      "s\n",
      "k\n",
      "i\n",
      "l\n",
      "l\n",
      "s\n"
     ]
    }
   ],
   "source": [
    "for i in s:\n",
    "    print (i)"
   ]
  },
  {
   "cell_type": "code",
   "execution_count": 135,
   "id": "b43458fd-1d77-498f-8a34-ddd652ab10ab",
   "metadata": {},
   "outputs": [
    {
     "name": "stdout",
     "output_type": "stream",
     "text": [
      "p\n",
      "s\n",
      "i\n",
      "l\n"
     ]
    }
   ],
   "source": [
    "# values on even indexes\n",
    "for i in list(range(0,len(s),2)):\n",
    "    print (s[i])"
   ]
  },
  {
   "cell_type": "code",
   "execution_count": 136,
   "id": "397b7ebe-0d48-4324-b484-063ba7e80162",
   "metadata": {},
   "outputs": [],
   "source": [
    "d={\"name\":\"ronak\",\"school\":\"ssn\",\"roll no.\":3209,\"phone no.\":7006232451,\"college\":{\"me\":200,\"cs\":150,\"ce\":100,\"ece\":50}}"
   ]
  },
  {
   "cell_type": "code",
   "execution_count": 140,
   "id": "068b0d1f-b65a-4752-8fe9-cb4d61e90833",
   "metadata": {},
   "outputs": [
    {
     "data": {
      "text/plain": [
       "dict_items([('name', 'ronak'), ('school', 'ssn'), ('roll no.', 3209), ('phone no.', 7006232451), ('college', {'me': 200, 'cs': 150, 'ce': 100, 'ece': 50})])"
      ]
     },
     "execution_count": 140,
     "metadata": {},
     "output_type": "execute_result"
    }
   ],
   "source": [
    "d.items()"
   ]
  },
  {
   "cell_type": "code",
   "execution_count": 138,
   "id": "514756b6-2b5b-4b35-b247-229dede5ec7e",
   "metadata": {},
   "outputs": [
    {
     "data": {
      "text/plain": [
       "dict_keys(['name', 'school', 'roll no.', 'phone no.', 'college'])"
      ]
     },
     "execution_count": 138,
     "metadata": {},
     "output_type": "execute_result"
    }
   ],
   "source": [
    "d.keys()"
   ]
  },
  {
   "cell_type": "code",
   "execution_count": 139,
   "id": "ac9c83bc-5a69-424a-9c3c-e88ea5369ad2",
   "metadata": {},
   "outputs": [
    {
     "data": {
      "text/plain": [
       "dict_values(['ronak', 'ssn', 3209, 7006232451, {'me': 200, 'cs': 150, 'ce': 100, 'ece': 50}])"
      ]
     },
     "execution_count": 139,
     "metadata": {},
     "output_type": "execute_result"
    }
   ],
   "source": [
    "d.values()"
   ]
  },
  {
   "cell_type": "code",
   "execution_count": 144,
   "id": "07b99af7-e478-45ae-9c98-56feec83425a",
   "metadata": {},
   "outputs": [
    {
     "name": "stdout",
     "output_type": "stream",
     "text": [
      "name\n",
      "school\n",
      "roll no.\n",
      "phone no.\n",
      "college\n"
     ]
    }
   ],
   "source": [
    "for i in d.keys():\n",
    "    print(i)"
   ]
  },
  {
   "cell_type": "code",
   "execution_count": 143,
   "id": "97433ea4-75e6-49ea-baf9-31bdda27627d",
   "metadata": {},
   "outputs": [
    {
     "name": "stdout",
     "output_type": "stream",
     "text": [
      "ronak\n",
      "ssn\n",
      "3209\n",
      "7006232451\n",
      "{'me': 200, 'cs': 150, 'ce': 100, 'ece': 50}\n"
     ]
    }
   ],
   "source": [
    "for i in d.keys():\n",
    "    print(d[i])"
   ]
  },
  {
   "cell_type": "code",
   "execution_count": 149,
   "id": "10f476e1-a42d-4997-b127-aaa12b9a1a5e",
   "metadata": {},
   "outputs": [
    {
     "data": {
      "text/plain": [
       "dict_items([('name', 'ronak'), ('school', 'ssn'), ('roll no.', 3209), ('phone no.', 7006232451), ('college', {'me': 200, 'cs': 150, 'ce': 100, 'ece': 50})])"
      ]
     },
     "execution_count": 149,
     "metadata": {},
     "output_type": "execute_result"
    }
   ],
   "source": [
    "d.items()"
   ]
  },
  {
   "cell_type": "code",
   "execution_count": 150,
   "id": "478549b2-db63-4df1-9721-95facbfc9dc7",
   "metadata": {},
   "outputs": [
    {
     "name": "stdout",
     "output_type": "stream",
     "text": [
      "('name', 'ronak')\n",
      "('school', 'ssn')\n",
      "('roll no.', 3209)\n",
      "('phone no.', 7006232451)\n",
      "('college', {'me': 200, 'cs': 150, 'ce': 100, 'ece': 50})\n"
     ]
    }
   ],
   "source": [
    "for i in d.items():\n",
    "    print(i)"
   ]
  },
  {
   "cell_type": "code",
   "execution_count": null,
   "id": "9ef70730-f50f-4f7e-a347-6ddda24067c5",
   "metadata": {},
   "outputs": [],
   "source": []
  },
  {
   "cell_type": "code",
   "execution_count": null,
   "id": "281d0618-534d-4b20-93c0-3eb5a1d8e70c",
   "metadata": {},
   "outputs": [],
   "source": []
  },
  {
   "cell_type": "code",
   "execution_count": null,
   "id": "8d9acfa0-64b5-4961-b6e4-8d149286245e",
   "metadata": {},
   "outputs": [],
   "source": []
  },
  {
   "cell_type": "code",
   "execution_count": null,
   "id": "a2e7068a-f3cf-4496-b57d-cdaeef8876fa",
   "metadata": {},
   "outputs": [],
   "source": []
  },
  {
   "cell_type": "code",
   "execution_count": null,
   "id": "18014f48-6ae4-4714-98e5-4e27e29d7f02",
   "metadata": {},
   "outputs": [],
   "source": []
  },
  {
   "cell_type": "code",
   "execution_count": null,
   "id": "18ee13fd-699e-4f7b-ac2a-292b5714ccc5",
   "metadata": {},
   "outputs": [],
   "source": []
  }
 ],
 "metadata": {
  "kernelspec": {
   "display_name": "Python 3 (ipykernel)",
   "language": "python",
   "name": "python3"
  },
  "language_info": {
   "codemirror_mode": {
    "name": "ipython",
    "version": 3
   },
   "file_extension": ".py",
   "mimetype": "text/x-python",
   "name": "python",
   "nbconvert_exporter": "python",
   "pygments_lexer": "ipython3",
   "version": "3.10.6"
  }
 },
 "nbformat": 4,
 "nbformat_minor": 5
}
