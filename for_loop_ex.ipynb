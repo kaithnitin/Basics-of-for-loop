{
 "cells": [
  {
   "cell_type": "markdown",
   "id": "a8fa3f6b-5f6a-4803-967e-6f35d4e12539",
   "metadata": {},
   "source": [
    "# for loop and while loop"
   ]
  },
  {
   "cell_type": "markdown",
   "id": "ef641089-2425-4729-b86a-674d250b1997",
   "metadata": {},
   "source": [
    "# 1.how to print 1 to 10 "
   ]
  },
  {
   "cell_type": "code",
   "execution_count": 12,
   "id": "eb984855-65e8-40f5-96ca-2667c02dc98c",
   "metadata": {},
   "outputs": [
    {
     "name": "stdout",
     "output_type": "stream",
     "text": [
      "1\n",
      "2\n",
      "3\n",
      "4\n",
      "5\n",
      "6\n",
      "7\n",
      "8\n",
      "9\n",
      "10\n",
      "numbers form 1 to 10 using for loop\n"
     ]
    }
   ],
   "source": [
    "# using for loop\n",
    "for i in range(1,11):\n",
    "    print(i)\n",
    "else:\n",
    "    print(\"numbers form 1 to 10 using for loop\")\n",
    "    "
   ]
  },
  {
   "cell_type": "code",
   "execution_count": 7,
   "id": "23dfa220-694d-455b-9ff6-4f5945fc7742",
   "metadata": {},
   "outputs": [
    {
     "name": "stdout",
     "output_type": "stream",
     "text": [
      "0\n",
      "1\n",
      "2\n",
      "3\n",
      "4\n",
      "5\n",
      "6\n",
      "7\n",
      "8\n",
      "9\n",
      "10\n",
      "numbers form 1 to 10 using while loop\n"
     ]
    }
   ],
   "source": [
    "# using while loop\n",
    "n=1\n",
    "while n<=10:\n",
    "    print(n)\n",
    "    n+=1\n",
    "    \n",
    "else:\n",
    "    print(\"numbers form 1 to 10 using while loop\")"
   ]
  },
  {
   "cell_type": "code",
   "execution_count": 11,
   "id": "ff40dd3d-9a53-49df-b925-3f8553fc2658",
   "metadata": {},
   "outputs": [
    {
     "name": "stdout",
     "output_type": "stream",
     "text": [
      "1\n",
      "2\n",
      "3\n",
      "4\n",
      "5\n",
      "6\n",
      "7\n",
      "8\n",
      "9\n",
      "10\n",
      "numbers form 1 to 10 using while loop\n"
     ]
    }
   ],
   "source": [
    "count = 0\n",
    "\n",
    "while count < 10:\n",
    "    count += 1\n",
    "    print(count)\n",
    "else:\n",
    "    print(\"numbers form 1 to 10 using while loop\")\n"
   ]
  },
  {
   "cell_type": "markdown",
   "id": "87cd7881-19e1-4a31-9cc2-5e8d60a39d8d",
   "metadata": {},
   "source": [
    "# 2.how to print in reverse order from 10 to 1"
   ]
  },
  {
   "cell_type": "code",
   "execution_count": 16,
   "id": "193f9112-3337-43de-a28b-aadd9e4033b8",
   "metadata": {},
   "outputs": [
    {
     "name": "stdout",
     "output_type": "stream",
     "text": [
      "10\n",
      "9\n",
      "8\n",
      "7\n",
      "6\n",
      "5\n",
      "4\n",
      "3\n",
      "2\n",
      "1\n"
     ]
    }
   ],
   "source": [
    "# using for loop\n",
    "for i in range(10,0,-1):\n",
    "    print(i)\n",
    "else:\n",
    "    print(\"numbers form 10 to 1 using for loop\")"
   ]
  },
  {
   "cell_type": "code",
   "execution_count": 12,
   "id": "0e9f4207-40d9-4332-bff6-12accfad9af3",
   "metadata": {},
   "outputs": [
    {
     "name": "stdout",
     "output_type": "stream",
     "text": [
      "10\n",
      "9\n",
      "8\n",
      "7\n",
      "6\n",
      "5\n",
      "4\n",
      "3\n",
      "2\n",
      "1\n",
      "numbers form 10 to 1 using while loop\n"
     ]
    }
   ],
   "source": [
    "# using while loop\n",
    "n=10\n",
    "while n>0: \n",
    "    print(n)\n",
    "    n-=1\n",
    "    \n",
    "else:\n",
    "    print(\"numbers form 10 to 1 using while loop\")"
   ]
  },
  {
   "cell_type": "markdown",
   "id": "2fb5777f-f54a-4aa6-9429-003ee8366abd",
   "metadata": {},
   "source": [
    "# 3.how to print even numbers"
   ]
  },
  {
   "cell_type": "code",
   "execution_count": 29,
   "id": "8ea68e1e-33ea-45ca-bda6-cca92f37b362",
   "metadata": {},
   "outputs": [
    {
     "name": "stdout",
     "output_type": "stream",
     "text": [
      "2\n",
      "4\n",
      "6\n",
      "8\n",
      "10\n",
      "12\n",
      "14\n",
      "16\n",
      "18\n",
      "20\n",
      "even numbers form 2 to 20 using for loop\n"
     ]
    }
   ],
   "source": [
    "# using for loop\n",
    "for i in range(2,21,2):\n",
    "    print(i)\n",
    "else:\n",
    "    print(\"even numbers form 2 to 20 using for loop\")"
   ]
  },
  {
   "cell_type": "code",
   "execution_count": 13,
   "id": "3f729553-3a26-4c03-b24d-bed66b09077f",
   "metadata": {},
   "outputs": [
    {
     "name": "stdout",
     "output_type": "stream",
     "text": [
      "20\n",
      "18\n",
      "16\n",
      "14\n",
      "12\n",
      "10\n",
      "8\n",
      "6\n",
      "4\n",
      "2\n",
      "even numbers form 20 to 2 using while loop\n"
     ]
    }
   ],
   "source": [
    "# using while loop\n",
    "n=20\n",
    "while n>0:\n",
    "    print(n)\n",
    "    n-=2\n",
    "    \n",
    "else:\n",
    "    print(\"even numbers form 20 to 2 using while loop\")"
   ]
  },
  {
   "cell_type": "markdown",
   "id": "20af7e01-ea2d-4ac7-bbd6-f0a686b7487f",
   "metadata": {},
   "source": [
    "## 4.how to print odd numbers btw 0 to 10"
   ]
  },
  {
   "cell_type": "code",
   "execution_count": 20,
   "id": "e4a4ef5c-6fdc-40ac-a88f-818857caa5a3",
   "metadata": {},
   "outputs": [
    {
     "name": "stdout",
     "output_type": "stream",
     "text": [
      "1\n",
      "3\n",
      "5\n",
      "7\n",
      "9\n",
      "odd numbers form 1 to 10 using for loop\n"
     ]
    }
   ],
   "source": [
    "# using for loop\n",
    "for odd in range(0,10,2):\n",
    "    odd+=1\n",
    "    print(odd)\n",
    "else:\n",
    "    print(\"odd numbers form 1 to 10 using for loop\")"
   ]
  },
  {
   "cell_type": "code",
   "execution_count": 21,
   "id": "91020fb6-9ee0-4af3-9a50-5132d3b8644a",
   "metadata": {},
   "outputs": [
    {
     "name": "stdout",
     "output_type": "stream",
     "text": [
      "1\n",
      "3\n",
      "5\n",
      "7\n",
      "9\n",
      "odd numbers form 1 to 10 using while loop\n"
     ]
    }
   ],
   "source": [
    "# using while loop\n",
    "odd=1\n",
    "while odd<10:\n",
    "    print(odd)\n",
    "    odd+=2\n",
    "else:\n",
    "    print(\"odd numbers form 1 to 10 using while loop\")"
   ]
  },
  {
   "cell_type": "code",
   "execution_count": 1,
   "id": "f018b3d9-2ef7-451f-8e05-8ae690c5216c",
   "metadata": {},
   "outputs": [
    {
     "name": "stdout",
     "output_type": "stream",
     "text": [
      "1\n",
      "3\n",
      "5\n",
      "7\n",
      "9\n"
     ]
    }
   ],
   "source": [
    "count = 1\n",
    "\n",
    "while count <= 10:\n",
    "    if count % 2 != 0:\n",
    "        print(count)\n",
    "    count += 1\n"
   ]
  },
  {
   "cell_type": "markdown",
   "id": "7ca7f4d1-f6cf-4b7f-bee0-ca58878d0ff6",
   "metadata": {},
   "source": [
    "# 5.how to check divisibilty of 2\n"
   ]
  },
  {
   "cell_type": "code",
   "execution_count": 7,
   "id": "9faf9fee-6c46-4460-92ba-c2bb7188050d",
   "metadata": {},
   "outputs": [
    {
     "name": "stdout",
     "output_type": "stream",
     "text": [
      "these numbers are divisible by 2\n",
      " [2, 4, 6, 8, 10, 12, 14, 16, 18, 20]\n",
      "these numbers are not divisible by 2\n",
      " [1, 3, 5, 7, 9, 11, 13, 15, 17, 19]\n"
     ]
    }
   ],
   "source": [
    "# using for loop\n",
    "d1=[]\n",
    "d2=[]\n",
    "for num in range(1,21):\n",
    "    if num % 2==0:\n",
    "        d1.append(num)\n",
    "    else:\n",
    "        d2.append(num)\n",
    "print(\"these numbers are divisible by 2\\n\",d1) \n",
    "print(\"these numbers are not divisible by 2\\n\",d2) \n"
   ]
  },
  {
   "cell_type": "code",
   "execution_count": 6,
   "id": "a2a60d11-9ba9-4dd8-bda3-dfa26a627331",
   "metadata": {},
   "outputs": [
    {
     "name": "stdout",
     "output_type": "stream",
     "text": [
      "these numbers are divisible by 2\n",
      " [2, 4, 6, 8, 10, 12, 14, 16, 18, 20]\n",
      "these numbers are not divisible by 2\n",
      " [1, 3, 5, 7, 9, 11, 13, 15, 17, 19, 21]\n"
     ]
    }
   ],
   "source": [
    "# using while loop\n",
    "d1=[]\n",
    "d2=[]\n",
    "num=0\n",
    "while num<=20:\n",
    "    num+=1\n",
    "    if num%2==0:\n",
    "        d1.append(num)\n",
    "    else:\n",
    "        d2.append(num)\n",
    "print(\"these numbers are divisible by 2\\n\",d1) \n",
    "print(\"these numbers are not divisible by 2\\n\",d2)  "
   ]
  },
  {
   "cell_type": "markdown",
   "id": "6208cea9-3905-4805-abb0-e4252d3e69b3",
   "metadata": {},
   "source": [
    "# 6. how to separate int and str in a list"
   ]
  },
  {
   "cell_type": "code",
   "execution_count": 9,
   "id": "0fc12f25-4a29-43b8-bab8-3f2960399ad2",
   "metadata": {},
   "outputs": [
    {
     "name": "stdout",
     "output_type": "stream",
     "text": [
      "Integer values\n",
      " [1, 2, 3, 4, 5]\n",
      "Float values: \n",
      " [0.345, 2.34, -3.34]\n",
      "String values: \n",
      " ['ram', 'sham', 'rohit']\n",
      "Boolean values: \n",
      " [True, False]\n",
      "Complex values: \n",
      " [(3+2j), (4+8j)]\n"
     ]
    }
   ],
   "source": [
    "list1=[1,2,3,4,5,True,\"ram\",\"sham\",\"rohit\",.345,3+2j,False,2.34,-3.34,4+8j]\n",
    "d1=[]\n",
    "d2=[]\n",
    "d3=[]\n",
    "d4=[]\n",
    "d5=[]\n",
    "for i in list1:\n",
    "    if type(i)==int:\n",
    "        d1.append(i)\n",
    "    elif type(i)==float:\n",
    "        d2.append(i)\n",
    "    elif type(i)==str:\n",
    "        d3.append(i)\n",
    "    elif type(i)==bool:\n",
    "        d4.append(i)\n",
    "    else:\n",
    "        d5.append(i)\n",
    "print(\"Integer values\\n\",d1) \n",
    "print(\"Float values: \\n\",d2)\n",
    "print(\"String values: \\n\",d3) \n",
    "print(\"Boolean values: \\n\",d4)\n",
    "print(\"Complex values: \\n\",d5) "
   ]
  },
  {
   "cell_type": "code",
   "execution_count": 18,
   "id": "b65965f4-7897-45f5-af2a-915c8f454892",
   "metadata": {},
   "outputs": [
    {
     "name": "stdout",
     "output_type": "stream",
     "text": [
      "Integer values\n",
      " [2, 3, 4, 5]\n",
      "Float values: \n",
      " [0.345, 2.34, -3.34]\n",
      "String values: \n",
      " ['ram', 'sham', 'rohit']\n",
      "Boolean values: \n",
      " [True, False]\n",
      "Complex values: \n",
      " [(3+2j), (4+8j)]\n"
     ]
    }
   ],
   "source": [
    "#using while loop\n",
    "list1=[1,2,3,4,5,True,\"ram\",\"sham\",\"rohit\",.345,3+2j,False,2.34,-3.34,4+8j]\n",
    "d1=[]\n",
    "d2=[]\n",
    "d3=[]\n",
    "d4=[]\n",
    "d5=[]\n",
    "i=1\n",
    "while i<len(list1):\n",
    "    if type(list1[i])==int:\n",
    "        d1.append(list1[i])\n",
    "    elif type(list1[i])==float:\n",
    "        d2.append(list1[i])\n",
    "    elif type(list1[i])==str:\n",
    "        d3.append(list1[i])\n",
    "    elif type(list1[i])==bool:\n",
    "        d4.append(list1[i])\n",
    "    else:\n",
    "        d5.append(list1[i])\n",
    "    i+=1\n",
    "print(\"Integer values\\n\",d1) \n",
    "print(\"Float values: \\n\",d2)\n",
    "print(\"String values: \\n\",d3) \n",
    "print(\"Boolean values: \\n\",d4)\n",
    "print(\"Complex values: \\n\",d5) "
   ]
  },
  {
   "cell_type": "markdown",
   "id": "f23be47a-ca70-4681-a67c-74fc571c3606",
   "metadata": {},
   "source": [
    "# 7. how add 1 in each no. in a list and store it in another list"
   ]
  },
  {
   "cell_type": "code",
   "execution_count": 21,
   "id": "753e84df-f497-43ac-a867-75e9092ba4df",
   "metadata": {},
   "outputs": [
    {
     "name": "stdout",
     "output_type": "stream",
     "text": [
      "[1, 2, 3, 4, 5, 6, 7, 8, 9, 10]\n"
     ]
    }
   ],
   "source": [
    "# using for loop\n",
    "list2=[0,1,2,3,4,5,6,7,8,9]\n",
    "d1=[]\n",
    "for num in list2:\n",
    "    num+=1\n",
    "    d1.append(num)\n",
    "print(d1)\n"
   ]
  },
  {
   "cell_type": "code",
   "execution_count": null,
   "id": "38dd708b-601c-4e5c-b596-dd611656ac21",
   "metadata": {},
   "outputs": [],
   "source": [
    "# using while loop\n",
    "list2=[0,1,2,3,4,5,6,7,8,9]\n",
    "d1=[]\n",
    "num=0\n",
    "while num<len(list2):\n",
    "    list2[num]+=1\n",
    "    d1.append(list2[num])\n",
    "num+=1\n",
    "print(d1)"
   ]
  },
  {
   "cell_type": "code",
   "execution_count": 4,
   "id": "472b2f04-e8a8-4506-a9cd-963cea06f6c2",
   "metadata": {},
   "outputs": [
    {
     "data": {
      "text/plain": [
       "[2, 4, 8, 16]"
      ]
     },
     "execution_count": 4,
     "metadata": {},
     "output_type": "execute_result"
    }
   ],
   "source": [
    "d1"
   ]
  },
  {
   "cell_type": "code",
   "execution_count": 1,
   "id": "b5349da9-4553-4de5-9143-eeda06186f57",
   "metadata": {},
   "outputs": [
    {
     "data": {
      "text/plain": [
       "4"
      ]
     },
     "execution_count": 1,
     "metadata": {},
     "output_type": "execute_result"
    }
   ],
   "source": [
    "2+2"
   ]
  },
  {
   "cell_type": "code",
   "execution_count": null,
   "id": "5d76de39-f551-4a2b-8077-24227934b267",
   "metadata": {},
   "outputs": [],
   "source": []
  }
 ],
 "metadata": {
  "kernelspec": {
   "display_name": "Python 3 (ipykernel)",
   "language": "python",
   "name": "python3"
  },
  "language_info": {
   "codemirror_mode": {
    "name": "ipython",
    "version": 3
   },
   "file_extension": ".py",
   "mimetype": "text/x-python",
   "name": "python",
   "nbconvert_exporter": "python",
   "pygments_lexer": "ipython3",
   "version": "3.10.6"
  }
 },
 "nbformat": 4,
 "nbformat_minor": 5
}
